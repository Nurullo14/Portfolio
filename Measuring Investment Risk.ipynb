{
 "cells": [
  {
   "cell_type": "markdown",
   "metadata": {},
   "source": [
    "# Calculating a security's risk in Python"
   ]
  },
  {
   "cell_type": "code",
   "execution_count": 44,
   "metadata": {},
   "outputs": [],
   "source": [
    "## Import the necessary libraries for the project\n",
    "\n",
    "import numpy as np\n",
    "import pandas as pd\n",
    "from pandas_datareader import data as wb"
   ]
  },
  {
   "cell_type": "code",
   "execution_count": 45,
   "metadata": {},
   "outputs": [],
   "source": [
    "tickers = ['KO', 'TSLA', 'AAPL', 'MSFT']\n",
    "sec_data = pd.DataFrame()\n",
    "\n",
    "for t in tickers:\n",
    "    sec_data[t] = wb.DataReader(t, data_source = 'yahoo', start = '2017-1-1')['Adj Close']"
   ]
  },
  {
   "cell_type": "code",
   "execution_count": 46,
   "metadata": {},
   "outputs": [
    {
     "data": {
      "text/html": [
       "<div>\n",
       "<style scoped>\n",
       "    .dataframe tbody tr th:only-of-type {\n",
       "        vertical-align: middle;\n",
       "    }\n",
       "\n",
       "    .dataframe tbody tr th {\n",
       "        vertical-align: top;\n",
       "    }\n",
       "\n",
       "    .dataframe thead th {\n",
       "        text-align: right;\n",
       "    }\n",
       "</style>\n",
       "<table border=\"1\" class=\"dataframe\">\n",
       "  <thead>\n",
       "    <tr style=\"text-align: right;\">\n",
       "      <th></th>\n",
       "      <th>KO</th>\n",
       "      <th>TSLA</th>\n",
       "      <th>AAPL</th>\n",
       "      <th>MSFT</th>\n",
       "    </tr>\n",
       "    <tr>\n",
       "      <th>Date</th>\n",
       "      <th></th>\n",
       "      <th></th>\n",
       "      <th></th>\n",
       "      <th></th>\n",
       "    </tr>\n",
       "  </thead>\n",
       "  <tbody>\n",
       "    <tr>\n",
       "      <td>2017-01-03</td>\n",
       "      <td>37.220135</td>\n",
       "      <td>43.397999</td>\n",
       "      <td>27.548414</td>\n",
       "      <td>58.826855</td>\n",
       "    </tr>\n",
       "    <tr>\n",
       "      <td>2017-01-04</td>\n",
       "      <td>37.086578</td>\n",
       "      <td>45.397999</td>\n",
       "      <td>27.517582</td>\n",
       "      <td>58.563644</td>\n",
       "    </tr>\n",
       "    <tr>\n",
       "      <td>2017-01-05</td>\n",
       "      <td>37.175610</td>\n",
       "      <td>45.349998</td>\n",
       "      <td>27.657520</td>\n",
       "      <td>58.563644</td>\n",
       "    </tr>\n",
       "    <tr>\n",
       "      <td>2017-01-06</td>\n",
       "      <td>37.166714</td>\n",
       "      <td>45.801998</td>\n",
       "      <td>27.965857</td>\n",
       "      <td>59.071262</td>\n",
       "    </tr>\n",
       "    <tr>\n",
       "      <td>2017-01-09</td>\n",
       "      <td>36.792725</td>\n",
       "      <td>46.256001</td>\n",
       "      <td>28.222006</td>\n",
       "      <td>58.883255</td>\n",
       "    </tr>\n",
       "  </tbody>\n",
       "</table>\n",
       "</div>"
      ],
      "text/plain": [
       "                   KO       TSLA       AAPL       MSFT\n",
       "Date                                                  \n",
       "2017-01-03  37.220135  43.397999  27.548414  58.826855\n",
       "2017-01-04  37.086578  45.397999  27.517582  58.563644\n",
       "2017-01-05  37.175610  45.349998  27.657520  58.563644\n",
       "2017-01-06  37.166714  45.801998  27.965857  59.071262\n",
       "2017-01-09  36.792725  46.256001  28.222006  58.883255"
      ]
     },
     "execution_count": 46,
     "metadata": {},
     "output_type": "execute_result"
    }
   ],
   "source": [
    "sec_data.head()"
   ]
  },
  {
   "cell_type": "code",
   "execution_count": 47,
   "metadata": {},
   "outputs": [
    {
     "data": {
      "text/html": [
       "<div>\n",
       "<style scoped>\n",
       "    .dataframe tbody tr th:only-of-type {\n",
       "        vertical-align: middle;\n",
       "    }\n",
       "\n",
       "    .dataframe tbody tr th {\n",
       "        vertical-align: top;\n",
       "    }\n",
       "\n",
       "    .dataframe thead th {\n",
       "        text-align: right;\n",
       "    }\n",
       "</style>\n",
       "<table border=\"1\" class=\"dataframe\">\n",
       "  <thead>\n",
       "    <tr style=\"text-align: right;\">\n",
       "      <th></th>\n",
       "      <th>KO</th>\n",
       "      <th>TSLA</th>\n",
       "      <th>AAPL</th>\n",
       "      <th>MSFT</th>\n",
       "    </tr>\n",
       "    <tr>\n",
       "      <th>Date</th>\n",
       "      <th></th>\n",
       "      <th></th>\n",
       "      <th></th>\n",
       "      <th></th>\n",
       "    </tr>\n",
       "  </thead>\n",
       "  <tbody>\n",
       "    <tr>\n",
       "      <td>2017-01-03</td>\n",
       "      <td>NaN</td>\n",
       "      <td>NaN</td>\n",
       "      <td>NaN</td>\n",
       "      <td>NaN</td>\n",
       "    </tr>\n",
       "    <tr>\n",
       "      <td>2017-01-04</td>\n",
       "      <td>-0.003595</td>\n",
       "      <td>0.045055</td>\n",
       "      <td>-0.001120</td>\n",
       "      <td>-0.004484</td>\n",
       "    </tr>\n",
       "    <tr>\n",
       "      <td>2017-01-05</td>\n",
       "      <td>0.002398</td>\n",
       "      <td>-0.001058</td>\n",
       "      <td>0.005073</td>\n",
       "      <td>0.000000</td>\n",
       "    </tr>\n",
       "    <tr>\n",
       "      <td>2017-01-06</td>\n",
       "      <td>-0.000239</td>\n",
       "      <td>0.009918</td>\n",
       "      <td>0.011087</td>\n",
       "      <td>0.008630</td>\n",
       "    </tr>\n",
       "    <tr>\n",
       "      <td>2017-01-09</td>\n",
       "      <td>-0.010113</td>\n",
       "      <td>0.009863</td>\n",
       "      <td>0.009118</td>\n",
       "      <td>-0.003188</td>\n",
       "    </tr>\n",
       "    <tr>\n",
       "      <td>...</td>\n",
       "      <td>...</td>\n",
       "      <td>...</td>\n",
       "      <td>...</td>\n",
       "      <td>...</td>\n",
       "    </tr>\n",
       "    <tr>\n",
       "      <td>2020-08-31</td>\n",
       "      <td>-0.006039</td>\n",
       "      <td>0.118395</td>\n",
       "      <td>0.033350</td>\n",
       "      <td>-0.014876</td>\n",
       "    </tr>\n",
       "    <tr>\n",
       "      <td>2020-09-01</td>\n",
       "      <td>-0.008312</td>\n",
       "      <td>-0.047822</td>\n",
       "      <td>0.039060</td>\n",
       "      <td>0.007686</td>\n",
       "    </tr>\n",
       "    <tr>\n",
       "      <td>2020-09-02</td>\n",
       "      <td>0.041278</td>\n",
       "      <td>-0.060034</td>\n",
       "      <td>-0.020936</td>\n",
       "      <td>0.019089</td>\n",
       "    </tr>\n",
       "    <tr>\n",
       "      <td>2020-09-03</td>\n",
       "      <td>-0.013967</td>\n",
       "      <td>-0.094573</td>\n",
       "      <td>-0.083448</td>\n",
       "      <td>-0.063949</td>\n",
       "    </tr>\n",
       "    <tr>\n",
       "      <td>2020-09-04</td>\n",
       "      <td>0.011032</td>\n",
       "      <td>0.027434</td>\n",
       "      <td>0.000662</td>\n",
       "      <td>-0.014135</td>\n",
       "    </tr>\n",
       "  </tbody>\n",
       "</table>\n",
       "<p>926 rows × 4 columns</p>\n",
       "</div>"
      ],
      "text/plain": [
       "                  KO      TSLA      AAPL      MSFT\n",
       "Date                                              \n",
       "2017-01-03       NaN       NaN       NaN       NaN\n",
       "2017-01-04 -0.003595  0.045055 -0.001120 -0.004484\n",
       "2017-01-05  0.002398 -0.001058  0.005073  0.000000\n",
       "2017-01-06 -0.000239  0.009918  0.011087  0.008630\n",
       "2017-01-09 -0.010113  0.009863  0.009118 -0.003188\n",
       "...              ...       ...       ...       ...\n",
       "2020-08-31 -0.006039  0.118395  0.033350 -0.014876\n",
       "2020-09-01 -0.008312 -0.047822  0.039060  0.007686\n",
       "2020-09-02  0.041278 -0.060034 -0.020936  0.019089\n",
       "2020-09-03 -0.013967 -0.094573 -0.083448 -0.063949\n",
       "2020-09-04  0.011032  0.027434  0.000662 -0.014135\n",
       "\n",
       "[926 rows x 4 columns]"
      ]
     },
     "execution_count": 47,
     "metadata": {},
     "output_type": "execute_result"
    }
   ],
   "source": [
    "## Calculate daily return for all stocks \n",
    "\n",
    "sec_returns= np.log(sec_data/sec_data.shift(1))\n",
    "sec_returns"
   ]
  },
  {
   "cell_type": "code",
   "execution_count": 48,
   "metadata": {},
   "outputs": [
    {
     "data": {
      "text/plain": [
       "KO      0.000341\n",
       "TSLA    0.002450\n",
       "AAPL    0.001599\n",
       "MSFT    0.001397\n",
       "dtype: float64"
      ]
     },
     "execution_count": 48,
     "metadata": {},
     "output_type": "execute_result"
    }
   ],
   "source": [
    "## Calculate the average daily return for all stocks \"tickers\"\n",
    "sec_returns[tickers].mean() "
   ]
  },
  {
   "cell_type": "code",
   "execution_count": 49,
   "metadata": {},
   "outputs": [
    {
     "data": {
      "text/plain": [
       "KO      0.085340\n",
       "TSLA    0.612387\n",
       "AAPL    0.399869\n",
       "MSFT    0.349337\n",
       "dtype: float64"
      ]
     },
     "execution_count": 49,
     "metadata": {},
     "output_type": "execute_result"
    }
   ],
   "source": [
    "## Calculate the annual return for all stocks \"tickers\"\n",
    "sec_returns[tickers].mean() *250"
   ]
  },
  {
   "cell_type": "code",
   "execution_count": 50,
   "metadata": {},
   "outputs": [
    {
     "data": {
      "text/plain": [
       "KO      0.013427\n",
       "TSLA    0.037773\n",
       "AAPL    0.019599\n",
       "MSFT    0.018213\n",
       "dtype: float64"
      ]
     },
     "execution_count": 50,
     "metadata": {},
     "output_type": "execute_result"
    }
   ],
   "source": [
    "## Calculate the daily standard deviation for all stocks \"tickers\"\n",
    "sec_returns[tickers].std()"
   ]
  },
  {
   "cell_type": "code",
   "execution_count": 51,
   "metadata": {},
   "outputs": [
    {
     "data": {
      "text/plain": [
       "KO      0.212300\n",
       "TSLA    0.597245\n",
       "AAPL    0.309888\n",
       "MSFT    0.287973\n",
       "dtype: float64"
      ]
     },
     "execution_count": 51,
     "metadata": {},
     "output_type": "execute_result"
    }
   ],
   "source": [
    "## Calculate the annual standard deviation for all stocks \"tickers\"\n",
    "sec_returns[tickers].std() * np.sqrt(250)"
   ]
  },
  {
   "cell_type": "markdown",
   "metadata": {},
   "source": [
    "## Calculating Covariance and Correlation"
   ]
  },
  {
   "cell_type": "code",
   "execution_count": 52,
   "metadata": {},
   "outputs": [
    {
     "data": {
      "text/plain": [
       "KO      0.000180\n",
       "TSLA    0.001427\n",
       "AAPL    0.000384\n",
       "MSFT    0.000332\n",
       "dtype: float64"
      ]
     },
     "execution_count": 52,
     "metadata": {},
     "output_type": "execute_result"
    }
   ],
   "source": [
    "sec_returns[tickers].var()"
   ]
  },
  {
   "cell_type": "code",
   "execution_count": 53,
   "metadata": {},
   "outputs": [
    {
     "data": {
      "text/html": [
       "<div>\n",
       "<style scoped>\n",
       "    .dataframe tbody tr th:only-of-type {\n",
       "        vertical-align: middle;\n",
       "    }\n",
       "\n",
       "    .dataframe tbody tr th {\n",
       "        vertical-align: top;\n",
       "    }\n",
       "\n",
       "    .dataframe thead th {\n",
       "        text-align: right;\n",
       "    }\n",
       "</style>\n",
       "<table border=\"1\" class=\"dataframe\">\n",
       "  <thead>\n",
       "    <tr style=\"text-align: right;\">\n",
       "      <th></th>\n",
       "      <th>KO</th>\n",
       "      <th>TSLA</th>\n",
       "      <th>AAPL</th>\n",
       "      <th>MSFT</th>\n",
       "    </tr>\n",
       "  </thead>\n",
       "  <tbody>\n",
       "    <tr>\n",
       "      <td>KO</td>\n",
       "      <td>0.000180</td>\n",
       "      <td>0.000114</td>\n",
       "      <td>0.000111</td>\n",
       "      <td>0.000120</td>\n",
       "    </tr>\n",
       "    <tr>\n",
       "      <td>TSLA</td>\n",
       "      <td>0.000114</td>\n",
       "      <td>0.001427</td>\n",
       "      <td>0.000298</td>\n",
       "      <td>0.000297</td>\n",
       "    </tr>\n",
       "    <tr>\n",
       "      <td>AAPL</td>\n",
       "      <td>0.000111</td>\n",
       "      <td>0.000298</td>\n",
       "      <td>0.000384</td>\n",
       "      <td>0.000267</td>\n",
       "    </tr>\n",
       "    <tr>\n",
       "      <td>MSFT</td>\n",
       "      <td>0.000120</td>\n",
       "      <td>0.000297</td>\n",
       "      <td>0.000267</td>\n",
       "      <td>0.000332</td>\n",
       "    </tr>\n",
       "  </tbody>\n",
       "</table>\n",
       "</div>"
      ],
      "text/plain": [
       "            KO      TSLA      AAPL      MSFT\n",
       "KO    0.000180  0.000114  0.000111  0.000120\n",
       "TSLA  0.000114  0.001427  0.000298  0.000297\n",
       "AAPL  0.000111  0.000298  0.000384  0.000267\n",
       "MSFT  0.000120  0.000297  0.000267  0.000332"
      ]
     },
     "execution_count": 53,
     "metadata": {},
     "output_type": "execute_result"
    }
   ],
   "source": [
    "covariance_matrix= sec_returns.cov()\n",
    "covariance_matrix"
   ]
  },
  {
   "cell_type": "code",
   "execution_count": 54,
   "metadata": {},
   "outputs": [
    {
     "data": {
      "text/html": [
       "<div>\n",
       "<style scoped>\n",
       "    .dataframe tbody tr th:only-of-type {\n",
       "        vertical-align: middle;\n",
       "    }\n",
       "\n",
       "    .dataframe tbody tr th {\n",
       "        vertical-align: top;\n",
       "    }\n",
       "\n",
       "    .dataframe thead th {\n",
       "        text-align: right;\n",
       "    }\n",
       "</style>\n",
       "<table border=\"1\" class=\"dataframe\">\n",
       "  <thead>\n",
       "    <tr style=\"text-align: right;\">\n",
       "      <th></th>\n",
       "      <th>KO</th>\n",
       "      <th>TSLA</th>\n",
       "      <th>AAPL</th>\n",
       "      <th>MSFT</th>\n",
       "    </tr>\n",
       "  </thead>\n",
       "  <tbody>\n",
       "    <tr>\n",
       "      <td>KO</td>\n",
       "      <td>1.000000</td>\n",
       "      <td>0.225470</td>\n",
       "      <td>0.423436</td>\n",
       "      <td>0.490003</td>\n",
       "    </tr>\n",
       "    <tr>\n",
       "      <td>TSLA</td>\n",
       "      <td>0.225470</td>\n",
       "      <td>1.000000</td>\n",
       "      <td>0.402277</td>\n",
       "      <td>0.431499</td>\n",
       "    </tr>\n",
       "    <tr>\n",
       "      <td>AAPL</td>\n",
       "      <td>0.423436</td>\n",
       "      <td>0.402277</td>\n",
       "      <td>1.000000</td>\n",
       "      <td>0.747546</td>\n",
       "    </tr>\n",
       "    <tr>\n",
       "      <td>MSFT</td>\n",
       "      <td>0.490003</td>\n",
       "      <td>0.431499</td>\n",
       "      <td>0.747546</td>\n",
       "      <td>1.000000</td>\n",
       "    </tr>\n",
       "  </tbody>\n",
       "</table>\n",
       "</div>"
      ],
      "text/plain": [
       "            KO      TSLA      AAPL      MSFT\n",
       "KO    1.000000  0.225470  0.423436  0.490003\n",
       "TSLA  0.225470  1.000000  0.402277  0.431499\n",
       "AAPL  0.423436  0.402277  1.000000  0.747546\n",
       "MSFT  0.490003  0.431499  0.747546  1.000000"
      ]
     },
     "execution_count": 54,
     "metadata": {},
     "output_type": "execute_result"
    }
   ],
   "source": [
    "correlation_matrix = sec_returns.corr()\n",
    "correlation_matrix"
   ]
  },
  {
   "cell_type": "markdown",
   "metadata": {},
   "source": [
    "## Calculating Portfolio Risk"
   ]
  },
  {
   "cell_type": "code",
   "execution_count": 55,
   "metadata": {},
   "outputs": [],
   "source": [
    "# First, we need to assign weights to all stocks in our portfolio\n",
    "weights = np.array([0.25, 0.25, 0.25, 0.25])"
   ]
  },
  {
   "cell_type": "markdown",
   "metadata": {},
   "source": [
    "## Portfolio Variance"
   ]
  },
  {
   "cell_type": "code",
   "execution_count": 56,
   "metadata": {},
   "outputs": [
    {
     "data": {
      "text/plain": [
       "0.07401825048444007"
      ]
     },
     "execution_count": 56,
     "metadata": {},
     "output_type": "execute_result"
    }
   ],
   "source": [
    "portfolio_var = np.dot(weights.T, np.dot(sec_returns.cov()*250, weights))\n",
    "portfolio_var"
   ]
  },
  {
   "cell_type": "code",
   "execution_count": 70,
   "metadata": {},
   "outputs": [
    {
     "name": "stdout",
     "output_type": "stream",
     "text": [
      "7.3999999999999995%\n"
     ]
    }
   ],
   "source": [
    "print(str(round(portfolio_var, 3)* 100) +'%')"
   ]
  },
  {
   "cell_type": "markdown",
   "metadata": {},
   "source": [
    "## Portfolio Volatility"
   ]
  },
  {
   "cell_type": "code",
   "execution_count": 58,
   "metadata": {},
   "outputs": [
    {
     "data": {
      "text/plain": [
       "0.2720629531642264"
      ]
     },
     "execution_count": 58,
     "metadata": {},
     "output_type": "execute_result"
    }
   ],
   "source": [
    "portfolio_vol = np.dot(weights.T, np.dot(sec_returns.cov()*250, weights)) **0.5\n",
    "portfolio_vol"
   ]
  },
  {
   "cell_type": "code",
   "execution_count": 59,
   "metadata": {},
   "outputs": [
    {
     "name": "stdout",
     "output_type": "stream",
     "text": [
      "27.21%\n"
     ]
    }
   ],
   "source": [
    "print(str(round(portfolio_vol, 4) *100) + '%')"
   ]
  },
  {
   "cell_type": "markdown",
   "metadata": {},
   "source": [
    "## Calculating Diversifiable and Non-diversifiable risk of a portfolio"
   ]
  },
  {
   "cell_type": "code",
   "execution_count": 60,
   "metadata": {},
   "outputs": [
    {
     "data": {
      "text/plain": [
       "array([0.25, 0.25, 0.25, 0.25])"
      ]
     },
     "execution_count": 60,
     "metadata": {},
     "output_type": "execute_result"
    }
   ],
   "source": [
    "weights"
   ]
  },
  {
   "cell_type": "code",
   "execution_count": 61,
   "metadata": {},
   "outputs": [
    {
     "data": {
      "text/plain": [
       "KO      0.045071\n",
       "TSLA    0.356701\n",
       "AAPL    0.096031\n",
       "MSFT    0.082928\n",
       "dtype: float64"
      ]
     },
     "execution_count": 61,
     "metadata": {},
     "output_type": "execute_result"
    }
   ],
   "source": [
    "variance_all_stocks=sec_returns[tickers].var() *250\n",
    "variance_all_stocks"
   ]
  },
  {
   "cell_type": "code",
   "execution_count": 62,
   "metadata": {},
   "outputs": [],
   "source": [
    "## Diversifiable Risk = portfolio variance - weighted annual variance\n",
    "diversifiable_risk= portfolio_var - (weights[0] **2 * variance_all_stocks[0]) - (weights[1] **2 * variance_all_stocks[1]) -(weights[2] **2 * variance_all_stocks[2]) - (weights[3] **2 * variance_all_stocks[3])"
   ]
  },
  {
   "cell_type": "code",
   "execution_count": 63,
   "metadata": {},
   "outputs": [
    {
     "data": {
      "text/plain": [
       "0.037722531174419975"
      ]
     },
     "execution_count": 63,
     "metadata": {},
     "output_type": "execute_result"
    }
   ],
   "source": [
    "diversifiable_risk"
   ]
  },
  {
   "cell_type": "code",
   "execution_count": 67,
   "metadata": {},
   "outputs": [
    {
     "name": "stdout",
     "output_type": "stream",
     "text": [
      "3.8%\n"
     ]
    }
   ],
   "source": [
    "print(str(round(diversifiable_risk, 3) *100) +'%')"
   ]
  },
  {
   "cell_type": "markdown",
   "metadata": {},
   "source": [
    "## Non-diversifiable risk"
   ]
  },
  {
   "cell_type": "code",
   "execution_count": 65,
   "metadata": {},
   "outputs": [
    {
     "data": {
      "text/plain": [
       "0.03629571931002009"
      ]
     },
     "execution_count": 65,
     "metadata": {},
     "output_type": "execute_result"
    }
   ],
   "source": [
    "non_risk =portfolio_var - diversifiable_risk\n",
    "non_risk"
   ]
  },
  {
   "cell_type": "code",
   "execution_count": 71,
   "metadata": {},
   "outputs": [
    {
     "name": "stdout",
     "output_type": "stream",
     "text": [
      "3.63%\n"
     ]
    }
   ],
   "source": [
    "print(str(round(non_risk, 4) *100) +'%')"
   ]
  }
 ],
 "metadata": {
  "kernelspec": {
   "display_name": "Python 3",
   "language": "python",
   "name": "python3"
  },
  "language_info": {
   "codemirror_mode": {
    "name": "ipython",
    "version": 3
   },
   "file_extension": ".py",
   "mimetype": "text/x-python",
   "name": "python",
   "nbconvert_exporter": "python",
   "pygments_lexer": "ipython3",
   "version": "3.7.4"
  }
 },
 "nbformat": 4,
 "nbformat_minor": 2
}
